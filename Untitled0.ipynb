{
  "nbformat": 4,
  "nbformat_minor": 0,
  "metadata": {
    "colab": {
      "name": "Untitled0.ipynb",
      "provenance": []
    },
    "kernelspec": {
      "name": "python3",
      "display_name": "Python 3"
    },
    "language_info": {
      "name": "python"
    }
  },
  "cells": [
    {
      "cell_type": "code",
      "metadata": {
        "colab": {
          "base_uri": "https://localhost:8080/"
        },
        "id": "ZF1Z5EqfJ93f",
        "outputId": "4dd3d052-4a41-43d9-db86-19e8f156c6df"
      },
      "source": [
        "n = int(input(\"Enter the number of rows\"))  \n",
        "for i in range(0, n):\n",
        "  for j in range(0, i + 1):\n",
        "    print(\"* \", end=\"\")\n",
        "  print()"
      ],
      "execution_count": 1,
      "outputs": [
        {
          "output_type": "stream",
          "name": "stdout",
          "text": [
            "Enter the number of rows5\n",
            "* \n",
            "* * \n",
            "* * * \n",
            "* * * * \n",
            "* * * * * \n"
          ]
        }
      ]
    },
    {
      "cell_type": "code",
      "metadata": {
        "colab": {
          "base_uri": "https://localhost:8080/"
        },
        "id": "ImQRYBqNLBY9",
        "outputId": "4aeacdbc-4984-4bb8-a3b0-814c1033eae5"
      },
      "source": [
        "start_val = 1\n",
        "n = int(input(\"Enter the n number:\"))\n",
        "for num in range(start_val, n+1):\n",
        "    if(num>1):\n",
        "        for i in range(2,num):\n",
        "            if(num%i)==0:\n",
        "                break\n",
        "        else:\n",
        "            print(num)"
      ],
      "execution_count": 2,
      "outputs": [
        {
          "output_type": "stream",
          "name": "stdout",
          "text": [
            "Enter the n number:6\n",
            "2\n",
            "3\n",
            "5\n"
          ]
        }
      ]
    },
    {
      "cell_type": "code",
      "metadata": {
        "colab": {
          "base_uri": "https://localhost:8080/"
        },
        "id": "q6pLC3liLRdE",
        "outputId": "24bc3ab1-5f65-492f-ba80-8b4e4c23cd52"
      },
      "source": [
        "sum=0\n",
        "n = int(input(\"Enter n\"))\n",
        "for i in range(1,n+1):\n",
        "  sum=sum+i\n",
        "print(\"The sum is:\",sum)"
      ],
      "execution_count": 3,
      "outputs": [
        {
          "output_type": "stream",
          "name": "stdout",
          "text": [
            "Enter n8\n",
            "The sum is: 36\n"
          ]
        }
      ]
    },
    {
      "cell_type": "code",
      "metadata": {
        "colab": {
          "base_uri": "https://localhost:8080/"
        },
        "id": "eb1ca65zLawN",
        "outputId": "db91c53a-ea6c-497e-e5d1-4a9a42931d23"
      },
      "source": [
        "num1 = float(input(\"Enter number 1: \")) \n",
        "num2 = float(input(\"Enter number 2: \")) \n",
        "num3 = float(input(\"Enter number 3: \"))\n",
        "big=num1\n",
        "if (big<num2): big=num2\n",
        "if (big<num3): big=num3\n",
        "\n",
        "print(\"The largest among the three is : \",big)"
      ],
      "execution_count": 4,
      "outputs": [
        {
          "output_type": "stream",
          "name": "stdout",
          "text": [
            "Enter number 1: 8\n",
            "Enter number 2: 6\n",
            "Enter number 3: 9\n",
            "The largest among the three is :  9.0\n"
          ]
        }
      ]
    },
    {
      "cell_type": "code",
      "metadata": {
        "colab": {
          "base_uri": "https://localhost:8080/"
        },
        "id": "YhODWrCNLmOs",
        "outputId": "18646f03-3d83-4771-f284-395bcfb60faa"
      },
      "source": [
        "import numpy as np\n",
        "A = np.array([[1, 1, 1], [1, 1, 1],[1,1,1]])\n",
        "B = np.array([[1, 1, 1], [1, 1, 1],[1,1,1]])\n",
        "add=A+B\n",
        "print(\"Addition is\",add)\n",
        "mul = A.dot(B)\n",
        "print(\"Multiplication is\",mul)"
      ],
      "execution_count": 5,
      "outputs": [
        {
          "output_type": "stream",
          "name": "stdout",
          "text": [
            "Addition is [[2 2 2]\n",
            " [2 2 2]\n",
            " [2 2 2]]\n",
            "Multiplication is [[3 3 3]\n",
            " [3 3 3]\n",
            " [3 3 3]]\n"
          ]
        }
      ]
    },
    {
      "cell_type": "code",
      "metadata": {
        "colab": {
          "base_uri": "https://localhost:8080/"
        },
        "id": "9z0ZDvd2LriT",
        "outputId": "af005548-0a24-4769-b112-cf2ad2a842a7"
      },
      "source": [
        "import numpy as np  \n",
        "a = np.array([[1,2,30],[10,15,4]])  \n",
        "print(\"The array:\",a)  \n",
        "print(\"The maximum elements of each column:\",a.max(axis = 0))   \n",
        "print(\"The minimum element of each row\",a.min(axis = 1))  \n",
        "print(\"The sum of elements of each row\",a.sum(axis = 1))"
      ],
      "execution_count": 6,
      "outputs": [
        {
          "output_type": "stream",
          "name": "stdout",
          "text": [
            "The array: [[ 1  2 30]\n",
            " [10 15  4]]\n",
            "The maximum elements of each column: [10 15 30]\n",
            "The minimum element of each row [1 4]\n",
            "The sum of elements of each row [33 29]\n"
          ]
        }
      ]
    },
    {
      "cell_type": "code",
      "metadata": {
        "colab": {
          "base_uri": "https://localhost:8080/"
        },
        "id": "iGc-5rR4Lxfs",
        "outputId": "cfd14242-02c6-4a57-91a0-0a2eea30039f"
      },
      "source": [
        "def factorial(x):\n",
        "     if x == 1:\n",
        "        return 1\n",
        "     else:\n",
        "        return (x * factorial(x-1))\n",
        "num = 3\n",
        "print(\"The factorial of\", num, \"is\", factorial(num))"
      ],
      "execution_count": 7,
      "outputs": [
        {
          "output_type": "stream",
          "name": "stdout",
          "text": [
            "The factorial of 3 is 6\n"
          ]
        }
      ]
    },
    {
      "cell_type": "code",
      "metadata": {
        "colab": {
          "base_uri": "https://localhost:8080/"
        },
        "id": "yXYbBLgML2r8",
        "outputId": "7214292c-335a-4680-97e8-37392bdfb410"
      },
      "source": [
        "list1 = [1, 2, 3, 4]\n",
        "list2 = [5, 6, 7, 8]\n",
        "print(\"Repetition:\",list1*2)\n",
        "print(\"Concatenation:\",list1+list2)\n",
        "print(\"membership:\",2 in list1)\n",
        "print(\"Iteration:\")\n",
        "for i in list1:\n",
        "  print(i)\n",
        "print(\"length:\",len(list1))"
      ],
      "execution_count": 8,
      "outputs": [
        {
          "output_type": "stream",
          "name": "stdout",
          "text": [
            "Repetition: [1, 2, 3, 4, 1, 2, 3, 4]\n",
            "Concatenation: [1, 2, 3, 4, 5, 6, 7, 8]\n",
            "membership: True\n",
            "Iteration:\n",
            "1\n",
            "2\n",
            "3\n",
            "4\n",
            "length: 4\n"
          ]
        }
      ]
    },
    {
      "cell_type": "code",
      "metadata": {
        "colab": {
          "base_uri": "https://localhost:8080/"
        },
        "id": "CvbBl0MUL9Vc",
        "outputId": "64479c08-89dd-457c-b6b1-6b96b7408dc5"
      },
      "source": [
        "def add(num1, num2):\n",
        "    return num1 + num2\n",
        "  \n",
        "# Function to subtract two numbers \n",
        "def subtract(num1, num2):\n",
        "    return num1 - num2\n",
        "  \n",
        "# Function to multiply two numbers\n",
        "def multiply(num1, num2):\n",
        "    return num1 * num2\n",
        "  \n",
        "# Function to divide two numbers\n",
        "def divide(num1, num2):\n",
        "    return num1 / num2\n",
        "  \n",
        "print(\"Please select operation -\\n\" \\\n",
        "        \"1. Add\\n\" \\\n",
        "        \"2. Subtract\\n\" \\\n",
        "        \"3. Multiply\\n\" \\\n",
        "        \"4. Divide\\n\")\n",
        "   \n",
        "# Take input from the user \n",
        "select = int(input(\"Select operations form 1, 2, 3, 4 :\"))\n",
        "  \n",
        "number_1 = int(input(\"Enter first number: \"))\n",
        "number_2 = int(input(\"Enter second number: \"))\n",
        "  \n",
        "if select == 1:\n",
        "    print(number_1, \"+\", number_2, \"=\",\n",
        "                    add(number_1, number_2))\n",
        "  \n",
        "elif select == 2:\n",
        "    print(number_1, \"-\", number_2, \"=\",\n",
        "                    subtract(number_1, number_2))\n",
        "  \n",
        "elif select == 3:\n",
        "    print(number_1, \"*\", number_2, \"=\",\n",
        "                    multiply(number_1, number_2))\n",
        "  \n",
        "elif select == 4:\n",
        "    print(number_1, \"/\", number_2, \"=\",\n",
        "                    divide(number_1, number_2))\n",
        "else:\n",
        "    print(\"Invalid input\")"
      ],
      "execution_count": 11,
      "outputs": [
        {
          "output_type": "stream",
          "name": "stdout",
          "text": [
            "Please select operation -\n",
            "1. Add\n",
            "2. Subtract\n",
            "3. Multiply\n",
            "4. Divide\n",
            "\n",
            "Select operations form 1, 2, 3, 4 :1\n",
            "Enter first number: 4\n",
            "Enter second number: 7\n",
            "4 + 7 = 11\n"
          ]
        }
      ]
    },
    {
      "cell_type": "code",
      "metadata": {
        "colab": {
          "base_uri": "https://localhost:8080/"
        },
        "id": "iW-hdIa8NMTU",
        "outputId": "47715425-7231-4bf0-85c9-6e941e41391d"
      },
      "source": [
        "list1 = [10, 21, 4, 45, 66, 93]\n",
        " \n",
        "# iterating each number in list\n",
        "for num in list1:\n",
        " \n",
        "    # checking condition\n",
        "    if num % 2 == 0:\n",
        "        print(num, end=\" \")"
      ],
      "execution_count": 12,
      "outputs": [
        {
          "output_type": "stream",
          "name": "stdout",
          "text": [
            "10 4 66 "
          ]
        }
      ]
    }
  ]
}